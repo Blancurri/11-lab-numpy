{
 "cells": [
  {
   "cell_type": "markdown",
   "metadata": {},
   "source": [
    "# Intrduction to NumPy\n",
    "\n",
    "\n",
    "#### 1. Import NumPy under the name np."
   ]
  },
  {
   "cell_type": "code",
   "execution_count": 22,
   "metadata": {
    "ExecuteTime": {
     "end_time": "2020-07-13T07:45:13.969893Z",
     "start_time": "2020-07-13T07:45:13.967802Z"
    }
   },
   "outputs": [],
   "source": [
    "import numpy as np"
   ]
  },
  {
   "cell_type": "markdown",
   "metadata": {},
   "source": [
    "#### 2. Print your NumPy version."
   ]
  },
  {
   "cell_type": "code",
   "execution_count": 23,
   "metadata": {
    "ExecuteTime": {
     "end_time": "2020-07-13T07:45:14.615750Z",
     "start_time": "2020-07-13T07:45:14.612325Z"
    }
   },
   "outputs": [
    {
     "data": {
      "text/plain": [
       "'1.18.1'"
      ]
     },
     "execution_count": 23,
     "metadata": {},
     "output_type": "execute_result"
    }
   ],
   "source": [
    "numpy.__version__"
   ]
  },
  {
   "cell_type": "markdown",
   "metadata": {},
   "source": [
    "#### 3. Generate a 2x3x5 3-dimensional array with random values. Assign the array to variable *a*.\n",
    "**Challenge**: there are at least three easy ways that use numpy to generate random arrays. How many ways can you find?"
   ]
  },
  {
   "cell_type": "code",
   "execution_count": 36,
   "metadata": {
    "ExecuteTime": {
     "end_time": "2020-07-13T08:06:08.443701Z",
     "start_time": "2020-07-13T08:06:08.440690Z"
    }
   },
   "outputs": [
    {
     "name": "stdout",
     "output_type": "stream",
     "text": [
      "[[[0.69083496 0.02560382 0.70449629 0.27204808 0.89369276]\n",
      "  [0.66735749 0.83213206 0.38544333 0.83133579 0.19723793]\n",
      "  [0.05302879 0.47042338 0.64428218 0.09913696 0.31140729]]\n",
      "\n",
      " [[0.06575477 0.01316235 0.60905034 0.67265681 0.64957295]\n",
      "  [0.75905084 0.54533548 0.30325561 0.15236493 0.42095301]\n",
      "  [0.89243808 0.42893707 0.30304129 0.62429218 0.21653129]]]\n"
     ]
    }
   ],
   "source": [
    "a = np.random.random((2,3,5))                    # genera randoms amb números decimals\n",
    "print(a)"
   ]
  },
  {
   "cell_type": "code",
   "execution_count": 34,
   "metadata": {
    "ExecuteTime": {
     "end_time": "2020-07-13T08:05:46.710051Z",
     "start_time": "2020-07-13T08:05:46.706953Z"
    }
   },
   "outputs": [
    {
     "name": "stdout",
     "output_type": "stream",
     "text": [
      "[[[0.83756324 0.34895723 0.33554263 0.56542862 0.18209228]\n",
      "  [0.18278318 0.47387987 0.16533874 0.07073192 0.89611192]\n",
      "  [0.92468927 0.71544696 0.02055313 0.27231262 0.57084719]]\n",
      "\n",
      " [[0.58607436 0.58866329 0.03514279 0.29042021 0.08944747]\n",
      "  [0.829362   0.65498332 0.95169749 0.15864032 0.69353865]\n",
      "  [0.89659241 0.73437086 0.05406935 0.40787647 0.53447742]]]\n"
     ]
    }
   ],
   "source": [
    "b = np.random.rand(2,3,5)                        # genera randoms amb números decimals (del 0 a l'1)\n",
    "print(b)"
   ]
  },
  {
   "cell_type": "code",
   "execution_count": 39,
   "metadata": {
    "ExecuteTime": {
     "end_time": "2020-07-13T08:09:25.259491Z",
     "start_time": "2020-07-13T08:09:25.256537Z"
    }
   },
   "outputs": [
    {
     "name": "stdout",
     "output_type": "stream",
     "text": [
      "[[[7 0 4 1 2]\n",
      "  [3 2 8 5 9]\n",
      "  [6 2 3 8 9]]\n",
      "\n",
      " [[3 4 1 7 7]\n",
      "  [7 8 0 3 2]\n",
      "  [2 2 2 1 0]]]\n"
     ]
    }
   ],
   "source": [
    "c = np.random.randint(0,10, size=(2,3,5))        # genera randoms amb integers\n",
    "print(c)"
   ]
  },
  {
   "cell_type": "markdown",
   "metadata": {},
   "source": [
    "#### 4. Print *a*.\n"
   ]
  },
  {
   "cell_type": "code",
   "execution_count": 40,
   "metadata": {
    "ExecuteTime": {
     "end_time": "2020-07-13T08:14:49.126330Z",
     "start_time": "2020-07-13T08:14:49.122973Z"
    }
   },
   "outputs": [
    {
     "name": "stdout",
     "output_type": "stream",
     "text": [
      "[[[0.69083496 0.02560382 0.70449629 0.27204808 0.89369276]\n",
      "  [0.66735749 0.83213206 0.38544333 0.83133579 0.19723793]\n",
      "  [0.05302879 0.47042338 0.64428218 0.09913696 0.31140729]]\n",
      "\n",
      " [[0.06575477 0.01316235 0.60905034 0.67265681 0.64957295]\n",
      "  [0.75905084 0.54533548 0.30325561 0.15236493 0.42095301]\n",
      "  [0.89243808 0.42893707 0.30304129 0.62429218 0.21653129]]]\n"
     ]
    }
   ],
   "source": [
    "print(a)"
   ]
  },
  {
   "cell_type": "markdown",
   "metadata": {},
   "source": [
    "#### 5. Create a 5x2x3 3-dimensional array with all values equaling 1. Assign the array to variable *b*."
   ]
  },
  {
   "cell_type": "code",
   "execution_count": 43,
   "metadata": {
    "ExecuteTime": {
     "end_time": "2020-07-13T08:19:43.157027Z",
     "start_time": "2020-07-13T08:19:43.154857Z"
    }
   },
   "outputs": [],
   "source": [
    "b = np.ones((5,2,3), dtype='int32')"
   ]
  },
  {
   "cell_type": "markdown",
   "metadata": {},
   "source": [
    "#### 6. Print *b*.\n"
   ]
  },
  {
   "cell_type": "code",
   "execution_count": 44,
   "metadata": {
    "ExecuteTime": {
     "end_time": "2020-07-13T08:19:48.258319Z",
     "start_time": "2020-07-13T08:19:48.255547Z"
    }
   },
   "outputs": [
    {
     "name": "stdout",
     "output_type": "stream",
     "text": [
      "[[[1 1 1]\n",
      "  [1 1 1]]\n",
      "\n",
      " [[1 1 1]\n",
      "  [1 1 1]]\n",
      "\n",
      " [[1 1 1]\n",
      "  [1 1 1]]\n",
      "\n",
      " [[1 1 1]\n",
      "  [1 1 1]]\n",
      "\n",
      " [[1 1 1]\n",
      "  [1 1 1]]]\n"
     ]
    }
   ],
   "source": [
    "print(b)"
   ]
  },
  {
   "cell_type": "markdown",
   "metadata": {},
   "source": [
    "#### 7. Do *a* and *b* have the same size? How do you prove that in Python code?"
   ]
  },
  {
   "cell_type": "code",
   "execution_count": 46,
   "metadata": {
    "ExecuteTime": {
     "end_time": "2020-07-13T08:21:30.067655Z",
     "start_time": "2020-07-13T08:21:30.064374Z"
    }
   },
   "outputs": [
    {
     "data": {
      "text/plain": [
       "True"
      ]
     },
     "execution_count": 46,
     "metadata": {},
     "output_type": "execute_result"
    }
   ],
   "source": [
    "a.size == b.size    #tenen a i b el mateix número d'elements?"
   ]
  },
  {
   "cell_type": "markdown",
   "metadata": {},
   "source": [
    "#### 8. Are you able to add *a* and *b*? Why or why not?\n"
   ]
  },
  {
   "cell_type": "code",
   "execution_count": 48,
   "metadata": {
    "ExecuteTime": {
     "end_time": "2020-07-13T08:23:55.470463Z",
     "start_time": "2020-07-13T08:23:55.464445Z"
    }
   },
   "outputs": [
    {
     "ename": "ValueError",
     "evalue": "operands could not be broadcast together with shapes (2,3,5) (5,2,3) ",
     "output_type": "error",
     "traceback": [
      "\u001b[0;31m---------------------------------------------------------------------------\u001b[0m",
      "\u001b[0;31mValueError\u001b[0m                                Traceback (most recent call last)",
      "\u001b[0;32m<ipython-input-48-e30682cd529c>\u001b[0m in \u001b[0;36m<module>\u001b[0;34m\u001b[0m\n\u001b[0;32m----> 1\u001b[0;31m \u001b[0ma\u001b[0m\u001b[0;34m+\u001b[0m\u001b[0mb\u001b[0m\u001b[0;34m\u001b[0m\u001b[0;34m\u001b[0m\u001b[0m\n\u001b[0m\u001b[1;32m      2\u001b[0m \u001b[0;31m#No, because they don't have the same shape.\u001b[0m\u001b[0;34m\u001b[0m\u001b[0;34m\u001b[0m\u001b[0;34m\u001b[0m\u001b[0m\n",
      "\u001b[0;31mValueError\u001b[0m: operands could not be broadcast together with shapes (2,3,5) (5,2,3) "
     ]
    }
   ],
   "source": [
    "a+b\n",
    "#No, because they don't have the same shape. "
   ]
  },
  {
   "cell_type": "markdown",
   "metadata": {},
   "source": [
    "#### 9. Transpose *b* so that it has the same structure of *a* (i.e. become a 2x3x5 array). Assign the transposed array to variable *c*."
   ]
  },
  {
   "cell_type": "code",
   "execution_count": 51,
   "metadata": {
    "ExecuteTime": {
     "end_time": "2020-07-13T08:25:30.096319Z",
     "start_time": "2020-07-13T08:25:30.093268Z"
    }
   },
   "outputs": [
    {
     "name": "stdout",
     "output_type": "stream",
     "text": [
      "[[[1 1 1 1 1]\n",
      "  [1 1 1 1 1]\n",
      "  [1 1 1 1 1]]\n",
      "\n",
      " [[1 1 1 1 1]\n",
      "  [1 1 1 1 1]\n",
      "  [1 1 1 1 1]]]\n"
     ]
    }
   ],
   "source": [
    "c = b.reshape(a.shape)\n",
    "print(c)"
   ]
  },
  {
   "cell_type": "markdown",
   "metadata": {},
   "source": [
    "#### 10. Try to add *a* and *c*. Now it should work. Assign the sum to variable *d*. But why does it work now?"
   ]
  },
  {
   "cell_type": "code",
   "execution_count": 53,
   "metadata": {
    "ExecuteTime": {
     "end_time": "2020-07-13T08:27:24.973737Z",
     "start_time": "2020-07-13T08:27:24.970735Z"
    }
   },
   "outputs": [
    {
     "name": "stdout",
     "output_type": "stream",
     "text": [
      "[[[1.69083496 1.02560382 1.70449629 1.27204808 1.89369276]\n",
      "  [1.66735749 1.83213206 1.38544333 1.83133579 1.19723793]\n",
      "  [1.05302879 1.47042338 1.64428218 1.09913696 1.31140729]]\n",
      "\n",
      " [[1.06575477 1.01316235 1.60905034 1.67265681 1.64957295]\n",
      "  [1.75905084 1.54533548 1.30325561 1.15236493 1.42095301]\n",
      "  [1.89243808 1.42893707 1.30304129 1.62429218 1.21653129]]]\n"
     ]
    }
   ],
   "source": [
    "d = a+c          #funciona per què ara tenen la mateixa shape.\n",
    "print(d)"
   ]
  },
  {
   "cell_type": "markdown",
   "metadata": {},
   "source": [
    "#### 11. Print *a* and *d*. Notice the difference and relation of the two array in terms of the values? Explain."
   ]
  },
  {
   "cell_type": "code",
   "execution_count": 61,
   "metadata": {
    "ExecuteTime": {
     "end_time": "2020-07-13T08:39:44.801613Z",
     "start_time": "2020-07-13T08:39:44.798115Z"
    }
   },
   "outputs": [
    {
     "name": "stdout",
     "output_type": "stream",
     "text": [
      "[[[0.69083496 0.02560382 0.70449629 0.27204808 0.89369276]\n",
      "  [0.66735749 0.83213206 0.38544333 0.83133579 0.19723793]\n",
      "  [0.05302879 0.47042338 0.64428218 0.09913696 0.31140729]]\n",
      "\n",
      " [[0.06575477 0.01316235 0.60905034 0.67265681 0.64957295]\n",
      "  [0.75905084 0.54533548 0.30325561 0.15236493 0.42095301]\n",
      "  [0.89243808 0.42893707 0.30304129 0.62429218 0.21653129]]]\n",
      "[[[2.38166992 1.05120763 2.40899258 1.54409616 2.78738552]\n",
      "  [2.33471497 2.66426413 1.77088665 2.66267158 1.39447586]\n",
      "  [1.10605758 1.94084675 2.28856436 1.19827391 1.62281459]]\n",
      "\n",
      " [[1.13150953 1.0263247  2.21810068 2.34531361 2.29914591]\n",
      "  [2.51810167 2.09067097 1.60651122 1.30472985 1.84190603]\n",
      "  [2.78487616 1.85787413 1.60608259 2.24858436 1.43306257]]]\n"
     ]
    }
   ],
   "source": [
    "print(a)\n",
    "#print(d)\n",
    "print(a+d)"
   ]
  },
  {
   "cell_type": "markdown",
   "metadata": {},
   "source": [
    "#### 12. Multiply *a* and *c*. Assign the result to *e*."
   ]
  },
  {
   "cell_type": "code",
   "execution_count": 59,
   "metadata": {
    "ExecuteTime": {
     "end_time": "2020-07-13T08:34:36.556643Z",
     "start_time": "2020-07-13T08:34:36.553478Z"
    }
   },
   "outputs": [
    {
     "name": "stdout",
     "output_type": "stream",
     "text": [
      "[[[0.69083496 0.02560382 0.70449629 0.27204808 0.89369276]\n",
      "  [0.66735749 0.83213206 0.38544333 0.83133579 0.19723793]\n",
      "  [0.05302879 0.47042338 0.64428218 0.09913696 0.31140729]]\n",
      "\n",
      " [[0.06575477 0.01316235 0.60905034 0.67265681 0.64957295]\n",
      "  [0.75905084 0.54533548 0.30325561 0.15236493 0.42095301]\n",
      "  [0.89243808 0.42893707 0.30304129 0.62429218 0.21653129]]]\n"
     ]
    }
   ],
   "source": [
    "e = a*c    #\n",
    "print(e)"
   ]
  },
  {
   "cell_type": "markdown",
   "metadata": {},
   "source": [
    "#### 13. Does *e* equal to *a*? Why or why not?\n"
   ]
  },
  {
   "cell_type": "code",
   "execution_count": null,
   "metadata": {
    "collapsed": true
   },
   "outputs": [],
   "source": [
    "#Yes, as you've basically multiplied a by 1."
   ]
  },
  {
   "cell_type": "markdown",
   "metadata": {},
   "source": [
    "#### 14. Identify the max, min, and mean values in *d*. Assign those values to variables *d_max*, *d_min* and *d_mean*."
   ]
  },
  {
   "cell_type": "code",
   "execution_count": 64,
   "metadata": {
    "ExecuteTime": {
     "end_time": "2020-07-13T08:42:29.640879Z",
     "start_time": "2020-07-13T08:42:29.637595Z"
    }
   },
   "outputs": [
    {
     "name": "stdout",
     "output_type": "stream",
     "text": [
      "1.8936927580890426\n",
      "1.0131623511341554\n",
      "1.4578286028671932\n"
     ]
    }
   ],
   "source": [
    "d_max = np.max(d)\n",
    "print(d_max)\n",
    "d_min = np.min(d)\n",
    "print(d_min)\n",
    "d_mean = np.mean(d)\n",
    "print(d_mean)"
   ]
  },
  {
   "cell_type": "markdown",
   "metadata": {},
   "source": [
    "#### 15. Now we want to label the values in *d*. First create an empty array *f* with the same shape (i.e. 2x3x5) as *d* using `np.empty`.\n"
   ]
  },
  {
   "cell_type": "code",
   "execution_count": 70,
   "metadata": {
    "ExecuteTime": {
     "end_time": "2020-07-13T08:55:59.109563Z",
     "start_time": "2020-07-13T08:55:59.106320Z"
    }
   },
   "outputs": [
    {
     "name": "stdout",
     "output_type": "stream",
     "text": [
      "[[[0.69083496 0.02560382 0.70449629 0.27204808 0.89369276]\n",
      "  [0.66735749 0.83213206 0.38544333 0.83133579 0.19723793]\n",
      "  [0.05302879 0.47042338 0.64428218 0.09913696 0.31140729]]\n",
      "\n",
      " [[0.06575477 0.01316235 0.60905034 0.67265681 0.64957295]\n",
      "  [0.75905084 0.54533548 0.30325561 0.15236493 0.42095301]\n",
      "  [0.89243808 0.42893707 0.30304129 0.62429218 0.21653129]]]\n"
     ]
    }
   ],
   "source": [
    "f = np.empty(d.shape)\n",
    "print(f)"
   ]
  },
  {
   "cell_type": "markdown",
   "metadata": {},
   "source": [
    "#### 16. Populate the values in *f*. \n",
    "\n",
    "For each value in *d*, if it's larger than *d_min* but smaller than *d_mean*, assign 25 to the corresponding value in *f*. If a value in *d* is larger than *d_mean* but smaller than *d_max*, assign 75 to the corresponding value in *f*. If a value equals to *d_mean*, assign 50 to the corresponding value in *f*. Assign 0 to the corresponding value(s) in *f* for *d_min* in *d*. Assign 100 to the corresponding value(s) in *f* for *d_max* in *d*. In the end, f should have only the following values: 0, 25, 50, 75, and 100.\n",
    "\n",
    "**Note**: you don't have to use Numpy in this question."
   ]
  },
  {
   "cell_type": "code",
   "execution_count": 1,
   "metadata": {
    "collapsed": true
   },
   "outputs": [],
   "source": [
    "for i in d:\n",
    "    if i > d_min and < d_mean:\n",
    "        return\n",
    "for i in d:\n",
    "    if i > d_mean and < d_max:\n",
    "        i = 75\n",
    "        "
   ]
  },
  {
   "cell_type": "markdown",
   "metadata": {},
   "source": [
    "#### 17. Print *d* and *f*. Do you have your expected *f*?\n",
    "For instance, if your *d* is:\n",
    "```python\n",
    "[[[1.85836099, 1.67064465, 1.62576044, 1.40243961, 1.88454931],\n",
    "[1.75354326, 1.69403643, 1.36729252, 1.61415071, 1.12104981],\n",
    "[1.72201435, 1.1862918 , 1.87078449, 1.7726778 , 1.88180042]],\n",
    "[[1.44747908, 1.31673383, 1.02000951, 1.52218947, 1.97066381],\n",
    "[1.79129243, 1.74983003, 1.96028037, 1.85166831, 1.65450881],\n",
    "[1.18068344, 1.9587381 , 1.00656599, 1.93402165, 1.73514584]]]\n",
    "```\n",
    "Your *f* should be:\n",
    "```python\n",
    "[[[ 75.,  75.,  75.,  25.,  75.],\n",
    "[ 75.,  75.,  25.,  25.,  25.],\n",
    "[ 75.,  25.,  75.,  75.,  75.]],\n",
    "[[ 25.,  25.,  25.,  25., 100.],\n",
    "[ 75.,  75.,  75.,  75.,  75.],\n",
    "[ 25.,  75.,   0.,  75.,  75.]]]\n",
    "```"
   ]
  },
  {
   "cell_type": "code",
   "execution_count": 71,
   "metadata": {
    "ExecuteTime": {
     "end_time": "2020-07-13T08:58:04.816377Z",
     "start_time": "2020-07-13T08:58:04.812704Z"
    }
   },
   "outputs": [
    {
     "name": "stdout",
     "output_type": "stream",
     "text": [
      "[[[1.69083496 1.02560382 1.70449629 1.27204808 1.89369276]\n",
      "  [1.66735749 1.83213206 1.38544333 1.83133579 1.19723793]\n",
      "  [1.05302879 1.47042338 1.64428218 1.09913696 1.31140729]]\n",
      "\n",
      " [[1.06575477 1.01316235 1.60905034 1.67265681 1.64957295]\n",
      "  [1.75905084 1.54533548 1.30325561 1.15236493 1.42095301]\n",
      "  [1.89243808 1.42893707 1.30304129 1.62429218 1.21653129]]]\n",
      "[[[0.69083496 0.02560382 0.70449629 0.27204808 0.89369276]\n",
      "  [0.66735749 0.83213206 0.38544333 0.83133579 0.19723793]\n",
      "  [0.05302879 0.47042338 0.64428218 0.09913696 0.31140729]]\n",
      "\n",
      " [[0.06575477 0.01316235 0.60905034 0.67265681 0.64957295]\n",
      "  [0.75905084 0.54533548 0.30325561 0.15236493 0.42095301]\n",
      "  [0.89243808 0.42893707 0.30304129 0.62429218 0.21653129]]]\n"
     ]
    }
   ],
   "source": [
    "print(d)\n",
    "print(f)"
   ]
  },
  {
   "cell_type": "markdown",
   "metadata": {},
   "source": [
    "#### 18. Bonus question: instead of using numbers (i.e. 0, 25, 50, 75, and 100), use string values  (\"A\", \"B\", \"C\", \"D\", and \"E\") to label the array elements. For the example above, the expected result is:\n",
    "\n",
    "```python\n",
    "[[[ 'D',  'D',  'D',  'B',  'D'],\n",
    "[ 'D',  'D',  'B',  'B',  'B'],\n",
    "[ 'D',  'B',  'D',  'D',  'D']],\n",
    "[[ 'B',  'B',  'B',  'B',  'E'],\n",
    "[ 'D',  'D',  'D',  'D',  'D'],\n",
    "[ 'B',  'D',   'A',  'D', 'D']]]\n",
    "```\n",
    "**Note**: you don't have to use Numpy in this question."
   ]
  },
  {
   "cell_type": "code",
   "execution_count": null,
   "metadata": {
    "collapsed": true
   },
   "outputs": [],
   "source": [
    "# your code here"
   ]
  }
 ],
 "metadata": {
  "kernelspec": {
   "display_name": "Python 3",
   "language": "python",
   "name": "python3"
  },
  "language_info": {
   "codemirror_mode": {
    "name": "ipython",
    "version": 3
   },
   "file_extension": ".py",
   "mimetype": "text/x-python",
   "name": "python",
   "nbconvert_exporter": "python",
   "pygments_lexer": "ipython3",
   "version": "3.7.6"
  },
  "toc": {
   "base_numbering": 1,
   "nav_menu": {},
   "number_sections": true,
   "sideBar": true,
   "skip_h1_title": false,
   "title_cell": "Table of Contents",
   "title_sidebar": "Contents",
   "toc_cell": false,
   "toc_position": {},
   "toc_section_display": true,
   "toc_window_display": false
  },
  "varInspector": {
   "cols": {
    "lenName": 16,
    "lenType": 16,
    "lenVar": 40
   },
   "kernels_config": {
    "python": {
     "delete_cmd_postfix": "",
     "delete_cmd_prefix": "del ",
     "library": "var_list.py",
     "varRefreshCmd": "print(var_dic_list())"
    },
    "r": {
     "delete_cmd_postfix": ") ",
     "delete_cmd_prefix": "rm(",
     "library": "var_list.r",
     "varRefreshCmd": "cat(var_dic_list()) "
    }
   },
   "types_to_exclude": [
    "module",
    "function",
    "builtin_function_or_method",
    "instance",
    "_Feature"
   ],
   "window_display": false
  }
 },
 "nbformat": 4,
 "nbformat_minor": 2
}
